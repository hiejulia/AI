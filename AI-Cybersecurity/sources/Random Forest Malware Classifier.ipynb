{
 "cells": [
  {
   "cell_type": "code",
   "execution_count": 2,
   "metadata": {
    "collapsed": true
   },
   "outputs": [],
   "source": [
    "import pandas as pd\n",
    "import numpy as np\n",
    "from sklearn import *"
   ]
  },
  {
   "cell_type": "code",
   "execution_count": 3,
   "metadata": {
    "collapsed": true
   },
   "outputs": [],
   "source": [
    "malware_dataset = pd.read_csv('../datasets/MalwareArtifacts.csv', delimiter=',')\n",
    "# Extacting artifacts samples fields \"AddressOfEntryPoint\" and \"DllCharacteristics\"\n",
    "samples = malware_dataset.iloc[:, [0,4]].values\n",
    "targets = malware_dataset.iloc[:, 8].values"
   ]
  },
  {
   "cell_type": "code",
   "execution_count": 4,
   "metadata": {
    "collapsed": true
   },
   "outputs": [],
   "source": [
    "from sklearn.model_selection import train_test_split\n",
    "\n",
    "training_samples, testing_samples, training_targets, testing_targets = train_test_split(samples, targets, test_size=0.2)\n"
   ]
  },
  {
   "cell_type": "code",
   "execution_count": 5,
   "metadata": {},
   "outputs": [
    {
     "name": "stdout",
     "output_type": "stream",
     "text": [
      "Random Forest Classifier accuracy: 96.46142701919594\n"
     ]
    }
   ],
   "source": [
    "rfc =  ensemble.RandomForestClassifier(n_estimators=50)\n",
    "rfc.fit(training_samples, training_targets)\n",
    "accuracy = rfc.score(testing_samples, testing_targets)\n",
    "\n",
    "print(\"Random Forest Classifier accuracy: \" + str(accuracy*100) )"
   ]
  }
 ],
 "metadata": {
  "kernelspec": {
   "display_name": "Python 3",
   "language": "python",
   "name": "python3"
  },
  "language_info": {
   "codemirror_mode": {
    "name": "ipython",
    "version": 3
   },
   "file_extension": ".py",
   "mimetype": "text/x-python",
   "name": "python",
   "nbconvert_exporter": "python",
   "pygments_lexer": "ipython3",
   "version": "3.7.6"
  }
 },
 "nbformat": 4,
 "nbformat_minor": 2
}
