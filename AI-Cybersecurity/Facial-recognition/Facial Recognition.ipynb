{
 "cells": [
  {
   "cell_type": "code",
   "execution_count": 1,
   "metadata": {},
   "outputs": [
    {
     "name": "stderr",
     "output_type": "stream",
     "text": [
      "Downloading LFW metadata: https://ndownloader.figshare.com/files/5976012\n",
      "Downloading LFW metadata: https://ndownloader.figshare.com/files/5976009\n",
      "Downloading LFW metadata: https://ndownloader.figshare.com/files/5976006\n",
      "Downloading LFW data (~200MB): https://ndownloader.figshare.com/files/5976015\n"
     ]
    },
    {
     "name": "stdout",
     "output_type": "stream",
     "text": [
      "               precision    recall  f1-score   support\n",
      "\n",
      " Colin Powell       0.95      0.82      0.88        73\n",
      "George W Bush       0.92      0.98      0.95       157\n",
      "\n",
      "     accuracy                           0.93       230\n",
      "    macro avg       0.94      0.90      0.92       230\n",
      " weighted avg       0.93      0.93      0.93       230\n",
      "\n"
     ]
    }
   ],
   "source": [
    "from sklearn.datasets import fetch_lfw_people\n",
    "from sklearn.decomposition import PCA\n",
    "from sklearn.neural_network import MLPClassifier\n",
    "from sklearn.model_selection import train_test_split\n",
    "from sklearn.metrics import classification_report\n",
    "\n",
    "\n",
    "lfw = fetch_lfw_people(min_faces_per_person=150)\n",
    "\n",
    "X_data = lfw.data\n",
    "y_target = lfw.target\n",
    "names = lfw.target_names\n",
    "\n",
    "X_train, X_test, y_train, y_test = train_test_split(X_data, y_target, test_size=0.3)\n",
    "\n",
    "\n",
    "pca = PCA(n_components=150, whiten=True)\n",
    "pca.fit(X_train)\n",
    "\n",
    "pca_train = pca.transform(X_train)\n",
    "pca_test = pca.transform(X_test)\n",
    "\n",
    "\n",
    "mlpc = MLPClassifier()\n",
    "mlpc.fit(pca_train, y_train)\n",
    "\n",
    "y_pred = mlpc.predict(pca_test)\n",
    "print(classification_report(y_test, y_pred, target_names=names))\n"
   ]
  },
  {
   "cell_type": "code",
   "execution_count": null,
   "metadata": {},
   "outputs": [],
   "source": []
  }
 ],
 "metadata": {
  "kernelspec": {
   "display_name": "Python 3",
   "language": "python",
   "name": "python3"
  },
  "language_info": {
   "codemirror_mode": {
    "name": "ipython",
    "version": 3
   },
   "file_extension": ".py",
   "mimetype": "text/x-python",
   "name": "python",
   "nbconvert_exporter": "python",
   "pygments_lexer": "ipython3",
   "version": "3.7.6"
  }
 },
 "nbformat": 4,
 "nbformat_minor": 2
}
